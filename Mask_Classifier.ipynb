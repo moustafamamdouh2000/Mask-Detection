{
 "cells": [
  {
   "cell_type": "code",
   "execution_count": 1,
   "metadata": {
    "colab": {
     "base_uri": "https://localhost:8080/"
    },
    "id": "vghxKFYaUtd1",
    "outputId": "962579c6-b507-4783-d6e1-1988bd4147d5"
   },
   "outputs": [
    {
     "name": "stderr",
     "output_type": "stream",
     "text": [
      "ERROR: Exception:\n",
      "Traceback (most recent call last):\n",
      "  File \"c:\\users\\hp\\appdata\\local\\programs\\python\\python39\\lib\\site-packages\\pip\\_vendor\\urllib3\\response.py\", line 438, in _error_catcher\n",
      "    yield\n",
      "  File \"c:\\users\\hp\\appdata\\local\\programs\\python\\python39\\lib\\site-packages\\pip\\_vendor\\urllib3\\response.py\", line 519, in read\n",
      "    data = self._fp.read(amt) if not fp_closed else b\"\"\n",
      "  File \"c:\\users\\hp\\appdata\\local\\programs\\python\\python39\\lib\\site-packages\\pip\\_vendor\\cachecontrol\\filewrapper.py\", line 62, in read\n",
      "    data = self.__fp.read(amt)\n",
      "  File \"c:\\users\\hp\\appdata\\local\\programs\\python\\python39\\lib\\http\\client.py\", line 459, in read\n",
      "    n = self.readinto(b)\n",
      "  File \"c:\\users\\hp\\appdata\\local\\programs\\python\\python39\\lib\\http\\client.py\", line 503, in readinto\n",
      "    n = self.fp.readinto(b)\n",
      "  File \"c:\\users\\hp\\appdata\\local\\programs\\python\\python39\\lib\\socket.py\", line 704, in readinto\n",
      "    return self._sock.recv_into(b)\n",
      "  File \"c:\\users\\hp\\appdata\\local\\programs\\python\\python39\\lib\\ssl.py\", line 1241, in recv_into\n",
      "    return self.read(nbytes, buffer)\n",
      "  File \"c:\\users\\hp\\appdata\\local\\programs\\python\\python39\\lib\\ssl.py\", line 1099, in read\n",
      "    return self._sslobj.read(len, buffer)\n",
      "socket.timeout: The read operation timed out\n",
      "\n",
      "During handling of the above exception, another exception occurred:\n",
      "\n",
      "Traceback (most recent call last):\n",
      "  File \"c:\\users\\hp\\appdata\\local\\programs\\python\\python39\\lib\\site-packages\\pip\\_internal\\cli\\base_command.py\", line 180, in _main\n",
      "    status = self.run(options, args)\n",
      "  File \"c:\\users\\hp\\appdata\\local\\programs\\python\\python39\\lib\\site-packages\\pip\\_internal\\cli\\req_command.py\", line 205, in wrapper\n",
      "    return func(self, options, args)\n",
      "  File \"c:\\users\\hp\\appdata\\local\\programs\\python\\python39\\lib\\site-packages\\pip\\_internal\\commands\\install.py\", line 318, in run\n",
      "    requirement_set = resolver.resolve(\n",
      "  File \"c:\\users\\hp\\appdata\\local\\programs\\python\\python39\\lib\\site-packages\\pip\\_internal\\resolution\\resolvelib\\resolver.py\", line 127, in resolve\n",
      "    result = self._result = resolver.resolve(\n",
      "  File \"c:\\users\\hp\\appdata\\local\\programs\\python\\python39\\lib\\site-packages\\pip\\_vendor\\resolvelib\\resolvers.py\", line 473, in resolve\n",
      "    state = resolution.resolve(requirements, max_rounds=max_rounds)\n",
      "  File \"c:\\users\\hp\\appdata\\local\\programs\\python\\python39\\lib\\site-packages\\pip\\_vendor\\resolvelib\\resolvers.py\", line 367, in resolve\n",
      "    failure_causes = self._attempt_to_pin_criterion(name)\n",
      "  File \"c:\\users\\hp\\appdata\\local\\programs\\python\\python39\\lib\\site-packages\\pip\\_vendor\\resolvelib\\resolvers.py\", line 213, in _attempt_to_pin_criterion\n",
      "    criteria = self._get_criteria_to_update(candidate)\n",
      "  File \"c:\\users\\hp\\appdata\\local\\programs\\python\\python39\\lib\\site-packages\\pip\\_vendor\\resolvelib\\resolvers.py\", line 203, in _get_criteria_to_update\n",
      "    name, crit = self._merge_into_criterion(r, parent=candidate)\n",
      "  File \"c:\\users\\hp\\appdata\\local\\programs\\python\\python39\\lib\\site-packages\\pip\\_vendor\\resolvelib\\resolvers.py\", line 172, in _merge_into_criterion\n",
      "    if not criterion.candidates:\n",
      "  File \"c:\\users\\hp\\appdata\\local\\programs\\python\\python39\\lib\\site-packages\\pip\\_vendor\\resolvelib\\structs.py\", line 139, in __bool__\n",
      "    return bool(self._sequence)\n",
      "  File \"c:\\users\\hp\\appdata\\local\\programs\\python\\python39\\lib\\site-packages\\pip\\_internal\\resolution\\resolvelib\\found_candidates.py\", line 143, in __bool__\n",
      "    return any(self)\n",
      "  File \"c:\\users\\hp\\appdata\\local\\programs\\python\\python39\\lib\\site-packages\\pip\\_internal\\resolution\\resolvelib\\found_candidates.py\", line 129, in <genexpr>\n",
      "    return (c for c in iterator if id(c) not in self._incompatible_ids)\n",
      "  File \"c:\\users\\hp\\appdata\\local\\programs\\python\\python39\\lib\\site-packages\\pip\\_internal\\resolution\\resolvelib\\found_candidates.py\", line 33, in _iter_built\n",
      "    candidate = func()\n",
      "  File \"c:\\users\\hp\\appdata\\local\\programs\\python\\python39\\lib\\site-packages\\pip\\_internal\\resolution\\resolvelib\\factory.py\", line 200, in _make_candidate_from_link\n",
      "    self._link_candidate_cache[link] = LinkCandidate(\n",
      "  File \"c:\\users\\hp\\appdata\\local\\programs\\python\\python39\\lib\\site-packages\\pip\\_internal\\resolution\\resolvelib\\candidates.py\", line 306, in __init__\n",
      "    super().__init__(\n",
      "  File \"c:\\users\\hp\\appdata\\local\\programs\\python\\python39\\lib\\site-packages\\pip\\_internal\\resolution\\resolvelib\\candidates.py\", line 151, in __init__\n",
      "    self.dist = self._prepare()\n",
      "  File \"c:\\users\\hp\\appdata\\local\\programs\\python\\python39\\lib\\site-packages\\pip\\_internal\\resolution\\resolvelib\\candidates.py\", line 234, in _prepare\n",
      "    dist = self._prepare_distribution()\n",
      "  File \"c:\\users\\hp\\appdata\\local\\programs\\python\\python39\\lib\\site-packages\\pip\\_internal\\resolution\\resolvelib\\candidates.py\", line 317, in _prepare_distribution\n",
      "    return self._factory.preparer.prepare_linked_requirement(\n",
      "  File \"c:\\users\\hp\\appdata\\local\\programs\\python\\python39\\lib\\site-packages\\pip\\_internal\\operations\\prepare.py\", line 508, in prepare_linked_requirement\n",
      "    return self._prepare_linked_requirement(req, parallel_builds)\n",
      "  File \"c:\\users\\hp\\appdata\\local\\programs\\python\\python39\\lib\\site-packages\\pip\\_internal\\operations\\prepare.py\", line 550, in _prepare_linked_requirement\n",
      "    local_file = unpack_url(\n",
      "  File \"c:\\users\\hp\\appdata\\local\\programs\\python\\python39\\lib\\site-packages\\pip\\_internal\\operations\\prepare.py\", line 239, in unpack_url\n",
      "    file = get_http_url(\n",
      "  File \"c:\\users\\hp\\appdata\\local\\programs\\python\\python39\\lib\\site-packages\\pip\\_internal\\operations\\prepare.py\", line 102, in get_http_url\n",
      "    from_path, content_type = download(link, temp_dir.path)\n",
      "  File \"c:\\users\\hp\\appdata\\local\\programs\\python\\python39\\lib\\site-packages\\pip\\_internal\\network\\download.py\", line 157, in __call__\n",
      "    for chunk in chunks:\n",
      "  File \"c:\\users\\hp\\appdata\\local\\programs\\python\\python39\\lib\\site-packages\\pip\\_internal\\cli\\progress_bars.py\", line 152, in iter\n",
      "    for x in it:\n",
      "  File \"c:\\users\\hp\\appdata\\local\\programs\\python\\python39\\lib\\site-packages\\pip\\_internal\\network\\utils.py\", line 62, in response_chunks\n",
      "    for chunk in response.raw.stream(\n",
      "  File \"c:\\users\\hp\\appdata\\local\\programs\\python\\python39\\lib\\site-packages\\pip\\_vendor\\urllib3\\response.py\", line 576, in stream\n",
      "    data = self.read(amt=amt, decode_content=decode_content)\n",
      "  File \"c:\\users\\hp\\appdata\\local\\programs\\python\\python39\\lib\\site-packages\\pip\\_vendor\\urllib3\\response.py\", line 541, in read\n",
      "    raise IncompleteRead(self._fp_bytes_read, self.length_remaining)\n",
      "  File \"c:\\users\\hp\\appdata\\local\\programs\\python\\python39\\lib\\contextlib.py\", line 135, in __exit__\n",
      "    self.gen.throw(type, value, traceback)\n",
      "  File \"c:\\users\\hp\\appdata\\local\\programs\\python\\python39\\lib\\site-packages\\pip\\_vendor\\urllib3\\response.py\", line 443, in _error_catcher\n",
      "    raise ReadTimeoutError(self._pool, None, \"Read timed out.\")\n",
      "pip._vendor.urllib3.exceptions.ReadTimeoutError: HTTPSConnectionPool(host='files.pythonhosted.org', port=443): Read timed out.\n"
     ]
    },
    {
     "name": "stdout",
     "output_type": "stream",
     "text": [
      "Collecting kornia\n",
      "  Downloading kornia-0.6.9-py2.py3-none-any.whl (569 kB)\n",
      "Collecting torch>=1.9.1\n",
      "  Downloading torch-1.13.1-cp39-cp39-win_amd64.whl (162.5 MB)\n"
     ]
    },
    {
     "ename": "ModuleNotFoundError",
     "evalue": "No module named 'google.colab'",
     "output_type": "error",
     "traceback": [
      "\u001b[1;31m---------------------------------------------------------------------------\u001b[0m",
      "\u001b[1;31mModuleNotFoundError\u001b[0m                       Traceback (most recent call last)",
      "\u001b[1;32m~\\AppData\\Local\\Temp/ipykernel_15008/3434160067.py\u001b[0m in \u001b[0;36m<module>\u001b[1;34m\u001b[0m\n\u001b[0;32m      4\u001b[0m \u001b[1;32mimport\u001b[0m \u001b[0mmatplotlib\u001b[0m\u001b[1;33m.\u001b[0m\u001b[0mpyplot\u001b[0m \u001b[1;32mas\u001b[0m \u001b[0mplt\u001b[0m\u001b[1;33m\u001b[0m\u001b[1;33m\u001b[0m\u001b[0m\n\u001b[0;32m      5\u001b[0m \u001b[1;32mimport\u001b[0m \u001b[0mos\u001b[0m\u001b[1;33m\u001b[0m\u001b[1;33m\u001b[0m\u001b[0m\n\u001b[1;32m----> 6\u001b[1;33m \u001b[1;32mfrom\u001b[0m \u001b[0mgoogle\u001b[0m\u001b[1;33m.\u001b[0m\u001b[0mcolab\u001b[0m\u001b[1;33m.\u001b[0m\u001b[0mpatches\u001b[0m \u001b[1;32mimport\u001b[0m \u001b[0mcv2_imshow\u001b[0m \u001b[1;32mas\u001b[0m \u001b[0mimshow\u001b[0m\u001b[1;33m\u001b[0m\u001b[1;33m\u001b[0m\u001b[0m\n\u001b[0m\u001b[0;32m      7\u001b[0m \u001b[1;32mfrom\u001b[0m \u001b[0mgoogle\u001b[0m\u001b[1;33m.\u001b[0m\u001b[0mcolab\u001b[0m \u001b[1;32mimport\u001b[0m \u001b[0mdrive\u001b[0m\u001b[1;33m\u001b[0m\u001b[1;33m\u001b[0m\u001b[0m\n\u001b[0;32m      8\u001b[0m \u001b[1;32mimport\u001b[0m \u001b[0mkornia\u001b[0m\u001b[1;33m\u001b[0m\u001b[1;33m\u001b[0m\u001b[0m\n",
      "\u001b[1;31mModuleNotFoundError\u001b[0m: No module named 'google.colab'"
     ]
    }
   ],
   "source": [
    "!pip install kornia\n",
    "import numpy as np\n",
    "import cv2 as cv\n",
    "import matplotlib.pyplot as plt\n",
    "import os\n",
    "from google.colab.patches import cv2_imshow as imshow\n",
    "from google.colab import drive\n",
    "import kornia\n",
    "import torch"
   ]
  },
  {
   "cell_type": "code",
   "execution_count": 2,
   "metadata": {
    "colab": {
     "base_uri": "https://localhost:8080/"
    },
    "id": "2I0PhPyZ6rax",
    "outputId": "364acbfb-b8c6-410e-8ca7-5f046cce2d21"
   },
   "outputs": [
    {
     "name": "stdout",
     "output_type": "stream",
     "text": [
      "Mounted at /content/drive\n"
     ]
    },
    {
     "name": "stderr",
     "output_type": "stream",
     "text": [
      "<ipython-input-2-677bb351a6a4>:11: VisibleDeprecationWarning: Creating an ndarray from ragged nested sequences (which is a list-or-tuple of lists-or-tuples-or ndarrays with different lengths or shapes) is deprecated. If you meant to do this, you must specify 'dtype=object' when creating the ndarray.\n",
      "  Mask=np.array(Mask) # making numpy array of the masks for easier handling later\n",
      "<ipython-input-2-677bb351a6a4>:16: VisibleDeprecationWarning: Creating an ndarray from ragged nested sequences (which is a list-or-tuple of lists-or-tuples-or ndarrays with different lengths or shapes) is deprecated. If you meant to do this, you must specify 'dtype=object' when creating the ndarray.\n",
      "  noMask=np.array(noMask) # making numpy array of the masks for easier handling later\n",
      "<ipython-input-2-677bb351a6a4>:17: VisibleDeprecationWarning: Creating an ndarray from ragged nested sequences (which is a list-or-tuple of lists-or-tuples-or ndarrays with different lengths or shapes) is deprecated. If you meant to do this, you must specify 'dtype=object' when creating the ndarray.\n",
      "  all_images = np.array(allImages) # making numpy array of the masks for easier handling later\n"
     ]
    }
   ],
   "source": [
    "#loading data from my drive\n",
    "drive.mount('/content/drive')\n",
    "allImages= [] # array to hold all images\n",
    "Mask = [] # array to hold mask images\n",
    "noMask = [] # array to hold non maks images\n",
    "\n",
    "#2 for loops to read the files from the dataset uploaded on my drive\n",
    "for filename in os.listdir('/content/drive/MyDrive/Image/withMask'):\n",
    "  Mask.append(cv.imread(f'/content/drive/MyDrive/Image/withMask/{filename}'))\n",
    "  allImages.append(cv.imread(f'/content/drive/MyDrive/Image/withMask/{filename}'))\n",
    "Mask=np.array(Mask) # making numpy array of the masks for easier handling later\n",
    "\n",
    "for filename in os.listdir('/content/drive/MyDrive/Image/noMask'):\n",
    "  noMask.append(cv.imread(f'/content/drive/MyDrive/Image/noMask/{filename}'))\n",
    "  allImages.append(cv.imread(f'/content/drive/MyDrive/Image/noMask/{filename}'))\n",
    "noMask=np.array(noMask) # making numpy array of the masks for easier handling later\n",
    "all_images = np.array(allImages) # making numpy array of the masks for easier handling later"
   ]
  },
  {
   "cell_type": "code",
   "execution_count": 3,
   "metadata": {
    "id": "OxuN7iZ262s6"
   },
   "outputs": [],
   "source": [
    "#function used to get gray image, helpful in most of the features used since most of them requires grayscale image\n",
    "def toGrayScale(img):\n",
    "  img=cv.cvtColor(img,cv.COLOR_BGR2GRAY)\n",
    "  return img"
   ]
  },
  {
   "cell_type": "code",
   "execution_count": 27,
   "metadata": {
    "id": "vt0jXtc23f_Z"
   },
   "outputs": [],
   "source": [
    "from zmq.constants import NULL\n",
    "#Function to get the mean for blue channel of image\n",
    "def mean_blue(img):\n",
    "  return np.mean(img[:,:,2].flatten()) \n",
    "\n",
    "#Function to get the mean for green channel of image\n",
    "def mean_green(img):\n",
    "  return np.mean(img[:,:,1].flatten())\n",
    "\n",
    "#Function to get the Vertical edges in the image\n",
    "def vertical_edges(img): \n",
    "  img=toGrayScale(img)\n",
    "  vertical = np.array([[5, 0, -5],\n",
    "                    [5, 0, -5],\n",
    "                    [5 ,0, -5]])\n",
    "  return np.mean(cv.filter2D(src=img, ddepth=-1, kernel=vertical))\n",
    "\n",
    "#Function to get the Horizontal edges in the image\n",
    "def horizontal_edges(img):\n",
    "  img=toGrayScale(img)\n",
    "  horizontal = np.array([[5, 5, 5],\n",
    "                    [0, 0, 0],\n",
    "                    [-5, -5, -5]])\n",
    "  return np.mean(cv.filter2D(src=img, ddepth=-1, kernel=horizontal).flatten())\n",
    "  \n",
    "#Function to get the orb Keypoints of image\n",
    "def orb(img):\n",
    "  img=toGrayScale(img)\n",
    "  orb = cv.ORB_create()\n",
    "  keypoints=orb.detect(img,None)\n",
    "  img=cv.drawKeypoints(img,keypoints,img)\n",
    "  return np.mean(img.flatten())\n",
    "# Using harriscorner detection method here to get the hilated corners\n",
    "def harrisCorner(img):\n",
    "  gray=toGrayScale(img)\n",
    "  dst=cv.cornerHarris(gray,2,3,0.04)\n",
    "  dst=cv.dilate(dst,None)\n",
    "  return np.mean(dst.flatten())\n",
    "  \n",
    "#Function to get CannyImage that is used to detect edges\n",
    "def cannyImage(img):\n",
    "  img=toGrayScale(img)\n",
    "  img = cv.Canny(img,100,150)\n",
    "  return np.mean(img.flatten())\n",
    "\n",
    "#Funtion to get the Contour of image to help get the boundary of the face\n",
    "def controurImage(img):\n",
    "  img=toGrayScale(img)\n",
    "  ret,thresh=cv.threshold(img,150,255,cv.THRESH_BINARY) \n",
    "  return np.mean(thresh.flatten())\n"
   ]
  },
  {
   "cell_type": "code",
   "execution_count": 28,
   "metadata": {
    "id": "zrO9HCVq_kTi"
   },
   "outputs": [],
   "source": [
    "# Function used to extract all the features per images, helpful in testing later\n",
    "def getFeatures(img): \n",
    "    image=img\n",
    "    i1=mean_blue(image)\n",
    "    i2=mean_green(image)\n",
    "    i7=controurImage(image)\n",
    "    i8=harrisCorner(image)\n",
    "    i3=vertical_edges(image)\n",
    "    i4=horizontal_edges(image)\n",
    "    i5=orb(image)\n",
    "    i6=cannyImage(image)\n",
    "    features =np.concatenate((i1,i2,i3,i4,i5,i6,i7,i8),axis=None)\n",
    "    return features"
   ]
  },
  {
   "cell_type": "markdown",
   "metadata": {
    "id": "G6XF6icj8FFo"
   },
   "source": []
  },
  {
   "cell_type": "code",
   "execution_count": 29,
   "metadata": {
    "id": "rv9wQOpW9nDe"
   },
   "outputs": [],
   "source": [
    "# some arrays to hold different number of features. and labels\n",
    "Mask_Numpy = []\n",
    "noMask_Numpy = []\n",
    "noMask_done_8 = []\n",
    "noMask_done_F8 = []\n",
    "noMask_done_F4 = []\n",
    "noMask_done_F2 = []\n",
    "Mask_done_F8 = []\n",
    "Mask_done_F4 = []\n",
    "Mask_done_F2 = []\n",
    "Labels = []\n",
    "for i in range(len(Mask)):\n",
    "  Mask_Numpy.append(getFeatures(Mask[i]))\n",
    "  Labels.append(\"Mask\")\n",
    "for i in range(len(noMask)):\n",
    "  noMask_Numpy.append(getFeatures(noMask[i]))\n",
    "  Labels.append(\"noMask\")\n",
    "Mask_Numpy = np.array(Mask_Numpy)\n",
    "noMask_Numpy = np.array(noMask_Numpy)\n",
    "for i in range(len(Mask_Numpy)):\n",
    "  Mask_done_F8.append(Mask_Numpy[i][:8])\n",
    "  Mask_done_F4.append(Mask_Numpy[i][:4])\n",
    "  Mask_done_F2.append(Mask_Numpy[i][:2])\n",
    "for i in range(len(noMask_Numpy)):\n",
    "  noMask_done_F8.append(noMask_Numpy[i][:8])\n",
    "  noMask_done_F4.append(noMask_Numpy[i][:4])\n",
    "  noMask_done_F2.append(noMask_Numpy[i][:2])\n",
    "Features_8=np.concatenate((Mask_done_F8,noMask_done_F8))\n",
    "Features_4=np.concatenate((Mask_done_F4,noMask_done_F4))\n",
    "Features_2=np.concatenate((Mask_done_F2,noMask_done_F2))"
   ]
  },
  {
   "cell_type": "code",
   "execution_count": 30,
   "metadata": {
    "colab": {
     "base_uri": "https://localhost:8080/"
    },
    "id": "fxVuNltnawM9",
    "outputId": "145fa3b9-186e-42d2-dc26-cac2977fb320"
   },
   "outputs": [
    {
     "name": "stdout",
     "output_type": "stream",
     "text": [
      "Accuracy using 8 featuers with RandomForest: 88.488435%\n",
      "Accuracy using 4 featuers with RandomForest: 85.691232%\n",
      "Accuracy using 2 featuers with RandomForest: 78.778913%\n",
      "Accuracy using 8 features with Gaussian: 79.263045%\n",
      "Accuracy using 8 features with Decision Trees: 83.270576%\n",
      "Accuracy using 8 features with GradientBoosting: 87.681549%\n",
      "Accuracy using 8 features with Support Vector Machine: 84.884346%\n"
     ]
    }
   ],
   "source": [
    "#Classification models, Using RandomForest, Gaussian, Decision Trees, and GradientBoosting, and finally using Support Vectore Machine Classifier\n",
    "from sklearn.model_selection import train_test_split\n",
    "from sklearn.metrics import accuracy_score\n",
    "from sklearn.metrics import precision_score\n",
    "from sklearn.naive_bayes import GaussianNB\n",
    "from sklearn.ensemble import RandomForestClassifier\n",
    "from sklearn import tree\n",
    "from sklearn.ensemble import GradientBoostingClassifier\n",
    "from sklearn import svm\n",
    "train_8x, test_8x, train_8y, test_8y= train_test_split(\n",
    "        Features_8, Labels, test_size=0.33)\n",
    "train_4x, test_4x, train_4y, test_4y= train_test_split(\n",
    "        Features_4, Labels, test_size=0.33)\n",
    "\n",
    "train_2x, test_2x, train_2y, test_2y= train_test_split(\n",
    "        Features_2, Labels, test_size=0.33,random_state=20)\n",
    "\n",
    "#RandomForest Model\n",
    "clf8 = RandomForestClassifier(n_estimators=250)\n",
    "clf8.fit(train_8x, train_8y)\n",
    "F8_Predict = clf8.predict(test_8x)\n",
    "print(f\"Accuracy using 8 featuers with RandomForest: {accuracy_score(test_8y, F8_Predict):%}\")\n",
    "\n",
    "clf4 = RandomForestClassifier(n_estimators=250)\n",
    "clf4.fit(train_4x, train_4y)\n",
    "F4_Predict = clf4.predict(test_4x)\n",
    "print(f\"Accuracy using 4 featuers with RandomForest: {accuracy_score(test_4y, F4_Predict):%}\")\n",
    "\n",
    "clf2 = RandomForestClassifier(n_estimators=250)\n",
    "clf2.fit(train_2x, train_2y)\n",
    "F2_Predict = clf2.predict(test_2x)\n",
    "print(f\"Accuracy using 2 featuers with RandomForest: {accuracy_score(test_2y, F2_Predict):%}\")\n",
    "\n",
    "#Gaussian Model\n",
    "gnb = GaussianNB()\n",
    "model = gnb.fit(train_8x, train_8y)\n",
    "predictive_labels = gnb.predict(test_8x)\n",
    "print(f\"Accuracy using 8 features with Gaussian: {accuracy_score(test_8y, predictive_labels):%}\")\n",
    "\n",
    "#Decision trees Model\n",
    "tree_clf = tree.DecisionTreeClassifier()\n",
    "tree_clf= tree_clf.fit(train_8x,train_8y)\n",
    "predictive_labels=tree_clf.predict(test_8x)\n",
    "print(f\"Accuracy using 8 features with Decision Trees: {accuracy_score(test_8y, predictive_labels):%}\")\n",
    "\n",
    "#GradientBoostingClassifier\n",
    "clf_GB = GradientBoostingClassifier(random_state=35)\n",
    "clf_GB.fit(train_8x,train_8y)\n",
    "predictive_labels=clf_GB.predict(test_8x)\n",
    "print(f\"Accuracy using 8 features with GradientBoosting: {accuracy_score(test_8y, predictive_labels):%}\")\n",
    "\n",
    "#Support Vector Machine\n",
    "clf_SVM = svm.SVC(kernel='linear')\n",
    "clf_SVM.fit(train_8x, train_8y)\n",
    "predictive_labels = clf_SVM.predict(test_8x)\n",
    "print(f\"Accuracy using 8 features with Support Vector Machine: {accuracy_score(test_8y, predictive_labels):%}\")"
   ]
  },
  {
   "cell_type": "code",
   "execution_count": 39,
   "metadata": {
    "colab": {
     "base_uri": "https://localhost:8080/",
     "height": 304
    },
    "id": "jmAtZDukjNA2",
    "outputId": "5e106170-8880-47f3-8544-a26365fb38c8"
   },
   "outputs": [
    {
     "name": "stdout",
     "output_type": "stream",
     "text": [
      "Random 8: ['Mask'], Random 4: ['Mask'], Random 2: ['Mask'], Gaussian 8: ['Mask'], Decision Trees 8: ['Mask'], GradientBoosting 8: ['Mask']\n",
      " SupportVectorMachine 8: ['Mask']\n"
     ]
    },
    {
     "data": {
      "image/png": "[encoded data removed]",
      "text/plain": [
       "<Figure size 432x288 with 1 Axes>"
      ]
     },
     "metadata": {
      "needs_background": "light"
     },
     "output_type": "display_data"
    }
   ],
   "source": [
    "#run to predict a random image from the dataset\n",
    "import random \n",
    "randomInt=random.randint(4000,7264) # even number of images from both classes\n",
    "image = all_images[randomInt] # taking random picture\n",
    "image_features = getFeatures(image) # getting the features from\n",
    "plt.imshow(cv.cvtColor(image,cv.COLOR_BGR2RGB)) # plotting the image\n",
    "#Using randomForest 8 features & 4 features & 2 features\n",
    "pred_RF8 = clf8.predict([image_features[:8]])\n",
    "pred_RF4 = clf4.predict([image_features[:4]])\n",
    "pred_RF2 = clf2.predict([image_features[:2]])\n",
    "#Using GNB\n",
    "pred_GNB = gnb.predict([image_features[:8]])\n",
    "#Using Decision Trees\n",
    "pred_TREE = tree_clf.predict([image_features[:8]])\n",
    "#Using GB\n",
    "pred_GB = clf_GB.predict([image_features[:8]])\n",
    "#Using SVM\n",
    "pred_SVM = clf_SVM.predict([image_features[:8]])\n",
    "print(f\"Random 8: {pred_RF8}, Random 4: {pred_RF4}, Random 2: {pred_RF2}, Gaussian 8: {pred_GNB}, Decision Trees 8: {pred_TREE}, GradientBoosting 8: {pred_GB}\\n SupportVectorMachine 8: {pred_SVM}\")"
   ]
  },
  {
   "cell_type": "code",
   "execution_count": 32,
   "metadata": {
    "id": "yHaV48Dx6u1S"
   },
   "outputs": [],
   "source": []
  }
 ],
 "metadata": {
  "colab": {
   "provenance": []
  },
  "kernelspec": {
   "display_name": "Python 3 (ipykernel)",
   "language": "python",
   "name": "python3"
  },
  "language_info": {
   "codemirror_mode": {
    "name": "ipython",
    "version": 3
   },
   "file_extension": ".py",
   "mimetype": "text/x-python",
   "name": "python",
   "nbconvert_exporter": "python",
   "pygments_lexer": "ipython3",
   "version": "3.9.6"
  }
 },
 "nbformat": 4,
 "nbformat_minor": 1
}
